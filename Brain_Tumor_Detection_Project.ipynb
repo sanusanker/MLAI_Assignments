{
  "nbformat": 4,
  "nbformat_minor": 0,
  "metadata": {
    "colab": {
      "provenance": [],
      "gpuType": "T4"
    },
    "kernelspec": {
      "name": "python3",
      "display_name": "Python 3"
    },
    "language_info": {
      "name": "python"
    },
    "accelerator": "GPU"
  },
  "cells": [
    {
      "cell_type": "markdown",
      "source": [
        "## Brain Tumor Detection\n",
        "\n",
        "[Dataset](https://www.kaggle.com/datasets/navoneel/brain-mri-images-for-brain-tumor-detection)"
      ],
      "metadata": {
        "id": "7OfLywv_exh1"
      }
    },
    {
      "cell_type": "markdown",
      "source": [
        "# Import the necessary libraries"
      ],
      "metadata": {
        "id": "cLZvJ386cV4M"
      }
    },
    {
      "cell_type": "code",
      "execution_count": null,
      "metadata": {
        "id": "pkx2SzFm7dIg"
      },
      "outputs": [],
      "source": [
        "import os\n",
        "import cv2\n",
        "import numpy as np\n",
        "import pathlib\n",
        "from keras.preprocessing.image import ImageDataGenerator, img_to_array, load_img\n",
        "from sklearn.model_selection import train_test_split\n",
        "import imutils\n",
        "\n",
        "# Create the directory structure for augmented data\n",
        "augmented_data_dir = 'augmented_data'\n",
        "os.makedirs(augmented_data_dir, exist_ok=True)\n",
        "yes_dir = os.path.join(augmented_data_dir, 'yes')\n",
        "no_dir = os.path.join(augmented_data_dir, 'no')\n",
        "os.makedirs(yes_dir, exist_ok=True)\n",
        "os.makedirs(no_dir, exist_ok=True)"
      ]
    },
    {
      "cell_type": "code",
      "source": [
        "# Original data paths\n",
        "train_dir = '/content/drive/MyDrive/Data/brain_tumor_dataset'\n",
        "train_dir = pathlib.Path(train_dir)\n",
        "tumor_cells = list(train_dir.glob('yes/*'))\n",
        "normal_cells = list(train_dir.glob('no/*'))\n",
        "\n",
        "df_images = {\n",
        "    'Tumor': tumor_cells,\n",
        "    'Normal': normal_cells\n",
        "}\n",
        "\n",
        "df_labels = {\n",
        "    'Tumor': 0,\n",
        "    'Normal': 1\n",
        "}"
      ],
      "metadata": {
        "id": "wfANp_pe7tRQ"
      },
      "execution_count": null,
      "outputs": []
    },
    {
      "cell_type": "markdown",
      "source": [
        "# ImageDataGenerator for Augmentation"
      ],
      "metadata": {
        "id": "GR49ElplccD_"
      }
    },
    {
      "cell_type": "markdown",
      "source": [
        "* ImageDataGenerator: This is a class from the Keras library used to generate batches of tensor image data with real-time data augmentation.\n",
        "\n",
        "* rotation_range=40: Randomly rotate images by up to 40 degrees.\n",
        "\n",
        "* shear_range=0.2: Apply random shear transformations with a magnitude of 0.2.\n",
        "\n",
        "* zoom_range=0.2: Apply random zooming within a range of 20% (either zoom in or out).\n",
        "\n",
        "* horizontal_flip=True: Randomly flip images horizontally.\n",
        "\n",
        "* brightness_range=(0.5, 1.5): Randomly change the brightness of images, ranging from 50% to 150%."
      ],
      "metadata": {
        "id": "M0KNio-oYMv8"
      }
    },
    {
      "cell_type": "code",
      "source": [
        "# Data augmentation generator\n",
        "datagen = ImageDataGenerator(\n",
        "    rotation_range=40,\n",
        "    shear_range=0.2,\n",
        "    zoom_range=0.2,\n",
        "    horizontal_flip=True,\n",
        "    brightness_range=(0.5, 1.5)\n",
        ")\n"
      ],
      "metadata": {
        "id": "x7L3Wmqt7xbW"
      },
      "execution_count": null,
      "outputs": []
    },
    {
      "cell_type": "markdown",
      "source": [
        "# Cropping Image"
      ],
      "metadata": {
        "id": "hSvZvv0mcl79"
      }
    },
    {
      "cell_type": "markdown",
      "source": [
        "* Gaussian Blur:\n",
        "\n",
        "    The grayscale image is blurred using a Gaussian filter with a kernel size of 3x3. Blurring helps in reducing noise and details, which is useful for more accurate thresholding and contour detection.\n",
        "\n",
        "* Thresholding:\n",
        "\n",
        "    The blurred grayscale image is thresholded using a binary threshold. This converts the image to a binary image where pixels are either 0 (black) or 255 (white). This step is crucial for contour detection.\n",
        "\n",
        "* Noise Removal:\n",
        "\n",
        "    The binary image undergoes erosion followed by dilation. Erosion removes small white noises, and dilation restores the shape of the object. This series of operations helps in cleaning up the binary image.\n",
        "\n",
        "* Find Contours:\n",
        "\n",
        "    Contours are detected in the binary image using cv2.findContours. Contours are the boundaries of objects in the image. The function then grabs the largest contour based on the area, assuming it to be the main object in the image.\n",
        "\n",
        "* Find Extreme Points:\n",
        "\n",
        "    The function finds the extreme points of the largest contour:\n",
        "\n",
        "\n",
        "* Crop the Image:\n",
        "\n",
        "    Using the extreme points, the function creates a rectangular crop of the original image. It uses these points to define the region of interest (ROI) and extracts this part from the image."
      ],
      "metadata": {
        "id": "Ht31lFrVXsSG"
      }
    },
    {
      "cell_type": "code",
      "source": [
        "def crop_img(img):\n",
        "    \"\"\"\n",
        "    Finds the extreme points on the image and crops the rectangular out of them\n",
        "    \"\"\"\n",
        "    # Check if the image is grayscale, and convert it to RGB if needed\n",
        "    if len(img.shape) == 2:\n",
        "        img = cv2.cvtColor(img, cv2.COLOR_GRAY2RGB)\n",
        "\n",
        "    gray = cv2.cvtColor(img, cv2.COLOR_RGB2GRAY)\n",
        "    gray = cv2.GaussianBlur(gray, (3, 3), 0)\n",
        "\n",
        "    # Threshold the image, then perform a series of erosions and dilations to remove any small regions of noise\n",
        "    thresh = cv2.threshold(gray, 45, 255, cv2.THRESH_BINARY)[1]\n",
        "    thresh = cv2.erode(thresh, None, iterations=2)\n",
        "    thresh = cv2.dilate(thresh, None, iterations=2)\n",
        "\n",
        "    # Find contours in thresholded image, then grab the largest one\n",
        "    cnts = cv2.findContours(thresh.copy(), cv2.RETR_EXTERNAL, cv2.CHAIN_APPROX_SIMPLE)\n",
        "    cnts = imutils.grab_contours(cnts)\n",
        "    c = max(cnts, key=cv2.contourArea)\n",
        "\n",
        "    # Find the extreme points\n",
        "    extLeft = tuple(c[c[:, :, 0].argmin()][0])\n",
        "    extRight = tuple(c[c[:, :, 0].argmax()][0])\n",
        "    extTop = tuple(c[c[:, :, 1].argmin()][0])\n",
        "    extBot = tuple(c[c[:, :, 1].argmax()][0])\n",
        "    ADD_PIXELS = 0\n",
        "    new_img = img[extTop[1]-ADD_PIXELS:extBot[1]+ADD_PIXELS, extLeft[0]-ADD_PIXELS:extRight[0]+ADD_PIXELS].copy()\n",
        "\n",
        "    return new_img\n"
      ],
      "metadata": {
        "id": "cJfLSbnG73RJ"
      },
      "execution_count": null,
      "outputs": []
    },
    {
      "cell_type": "markdown",
      "source": [
        "# Function to save augmented images"
      ],
      "metadata": {
        "id": "qtGK8F4Wc0BF"
      }
    },
    {
      "cell_type": "code",
      "source": [
        "def save_augmented_images(label, images, save_dir, augment_size=7):\n",
        "    for image_path in images:\n",
        "        img = load_img(image_path)\n",
        "        x = img_to_array(img)\n",
        "        x = x.reshape((1,) + x.shape)\n",
        "\n",
        "        # Generate augmented images and save them\n",
        "        i = 0\n",
        "        for batch in datagen.flow(x, batch_size=1, save_to_dir=save_dir, save_prefix=label, save_format='jpg'):\n",
        "            i += 1\n",
        "            if i >= augment_size:\n",
        "                break\n"
      ],
      "metadata": {
        "id": "I_xpWnc879Sb"
      },
      "execution_count": null,
      "outputs": []
    },
    {
      "cell_type": "code",
      "source": [
        "# Apply augmentation and save images\n",
        "save_augmented_images('Tumor', tumor_cells, yes_dir, augment_size=7)\n",
        "save_augmented_images('Normal', normal_cells, no_dir, augment_size=7)"
      ],
      "metadata": {
        "id": "Jctiox048B4a"
      },
      "execution_count": null,
      "outputs": []
    },
    {
      "cell_type": "markdown",
      "source": [
        "# Load original and augmented images"
      ],
      "metadata": {
        "id": "GAeVspV4c-U3"
      }
    },
    {
      "cell_type": "code",
      "source": [
        "def load_images_and_labels(df_images, df_labels, augmented_data_dir):\n",
        "    X, y = [], [] # X = images, y = labels\n",
        "\n",
        "    # Load original images\n",
        "    for label, images in df_images.items():\n",
        "        for image in images:\n",
        "            img = cv2.imread(str(image))\n",
        "            new_img = crop_img(img)\n",
        "            resized_img = cv2.resize(new_img, (224, 224)) # Resizing the images\n",
        "            X.append(resized_img)\n",
        "            y.append(df_labels[label])\n",
        "\n",
        "    # Load augmented images\n",
        "    for label, folder in zip(['Tumor', 'Normal'], ['yes', 'no']):\n",
        "        augmented_images_dir = os.path.join(augmented_data_dir, folder)\n",
        "        augmented_images = list(pathlib.Path(augmented_images_dir).glob('*.jpg'))\n",
        "        for image in augmented_images:\n",
        "            img = cv2.imread(str(image))\n",
        "            cropped_img = crop_img(img)\n",
        "            resized_img = cv2.resize(cropped_img, (224, 224))  # Resizing the images\n",
        "            X.append(resized_img)\n",
        "            y.append(df_labels[label])\n",
        "\n",
        "    return np.array(X), np.array(y)\n"
      ],
      "metadata": {
        "id": "SFI2ZGYz8Fcq"
      },
      "execution_count": null,
      "outputs": []
    },
    {
      "cell_type": "markdown",
      "source": [
        "# Load images and labels"
      ],
      "metadata": {
        "id": "wRm28z-vdCly"
      }
    },
    {
      "cell_type": "code",
      "source": [
        "X, y = load_images_and_labels(df_images, df_labels, augmented_data_dir)"
      ],
      "metadata": {
        "id": "KaQMZCuI8mx6"
      },
      "execution_count": null,
      "outputs": []
    },
    {
      "cell_type": "code",
      "source": [
        "import numpy as np\n",
        "\n",
        "np.unique(y)"
      ],
      "metadata": {
        "colab": {
          "base_uri": "https://localhost:8080/"
        },
        "id": "XUUoCXuq7qvw",
        "outputId": "05694abc-5560-48e7-b9b8-983c6bc4e053"
      },
      "execution_count": null,
      "outputs": [
        {
          "output_type": "execute_result",
          "data": {
            "text/plain": [
              "array([0, 1])"
            ]
          },
          "metadata": {},
          "execution_count": 9
        }
      ]
    },
    {
      "cell_type": "code",
      "source": [
        "print(len(X))"
      ],
      "metadata": {
        "colab": {
          "base_uri": "https://localhost:8080/"
        },
        "id": "wAn_w6L78qWz",
        "outputId": "ff2e6f9b-16a1-4ad3-f133-bf5b1bf7a46d"
      },
      "execution_count": null,
      "outputs": [
        {
          "output_type": "stream",
          "name": "stdout",
          "text": [
            "1939\n"
          ]
        }
      ]
    },
    {
      "cell_type": "markdown",
      "source": [
        "# Standardizing"
      ],
      "metadata": {
        "id": "GmpwBo06dG7S"
      }
    },
    {
      "cell_type": "code",
      "source": [
        "X = X / 255.0"
      ],
      "metadata": {
        "id": "kTaIsHsm8sVu"
      },
      "execution_count": null,
      "outputs": []
    },
    {
      "cell_type": "code",
      "source": [
        "import matplotlib.pyplot as plt\n",
        "plt.imshow(X[0])"
      ],
      "metadata": {
        "colab": {
          "base_uri": "https://localhost:8080/",
          "height": 472
        },
        "id": "w73Y9-gyJyIQ",
        "outputId": "b4626778-84a2-4299-872b-4c737880ec2c"
      },
      "execution_count": null,
      "outputs": [
        {
          "output_type": "execute_result",
          "data": {
            "text/plain": [
              "<matplotlib.image.AxesImage at 0x77ff26c4e440>"
            ]
          },
          "metadata": {},
          "execution_count": 12
        },
        {
          "output_type": "display_data",
          "data": {
            "text/plain": [
              "<Figure size 640x480 with 1 Axes>"
            ],
            "image/png": "[encoded data removed]"
          },
          "metadata": {}
        }
      ]
    },
    {
      "cell_type": "markdown",
      "source": [
        "# Train Test Splitting"
      ],
      "metadata": {
        "id": "ijCJsAg0dKcS"
      }
    },
    {
      "cell_type": "code",
      "source": [
        "from sklearn.model_selection import train_test_split\n",
        "\n",
        "# Initial split into training and testing sets\n",
        "X_train_full, X_test, y_train_full, y_test = train_test_split(X, y, test_size=0.2, random_state=42)\n",
        "\n",
        "# Further split the training set into training and validation sets\n",
        "X_train, X_val, y_train, y_val = train_test_split(X_train_full, y_train_full, test_size=0.25, random_state=42)  # 0.25 * 0.8 = 0.2\n",
        "\n",
        "print(\"Training set size:\", X_train.shape)\n",
        "print(\"Validation set size:\", X_val.shape)\n",
        "print(\"Test set size:\", X_test.shape)\n"
      ],
      "metadata": {
        "colab": {
          "base_uri": "https://localhost:8080/"
        },
        "id": "CMIpD8PeTRPt",
        "outputId": "8cba081f-3769-4ba4-947a-ce35bf082042"
      },
      "execution_count": null,
      "outputs": [
        {
          "output_type": "stream",
          "name": "stdout",
          "text": [
            "Training set size: (1163, 224, 224, 3)\n",
            "Validation set size: (388, 224, 224, 3)\n",
            "Test set size: (388, 224, 224, 3)\n"
          ]
        }
      ]
    },
    {
      "cell_type": "markdown",
      "source": [
        "# Sequential Model with VGG16 Base"
      ],
      "metadata": {
        "id": "L747BKRNdPRd"
      }
    },
    {
      "cell_type": "markdown",
      "source": [
        "# VGG16\n"
      ],
      "metadata": {
        "id": "SvNUnleOpuOE"
      }
    },
    {
      "cell_type": "code",
      "source": [
        "import tensorflow\n",
        "from tensorflow.keras import models,layers\n",
        "from keras.models import Sequential\n",
        "from keras.layers import Dense, Flatten, Dropout, Conv2D, MaxPooling2D\n",
        "from tensorflow.keras.applications import VGG16\n",
        "from tensorflow.keras.optimizers import Adam"
      ],
      "metadata": {
        "id": "xm1maGhf8-WR"
      },
      "execution_count": null,
      "outputs": []
    },
    {
      "cell_type": "code",
      "source": [
        "# Load pre-trained VGG16 model without including the top (classification) layers\n",
        "base_model = VGG16(weights='imagenet', include_top=False, input_shape=(224, 224, 3))"
      ],
      "metadata": {
        "id": "Sqtkh_fk9GYW",
        "colab": {
          "base_uri": "https://localhost:8080/"
        },
        "outputId": "ca4a0259-07af-4134-c101-960a5ca96f34"
      },
      "execution_count": null,
      "outputs": [
        {
          "output_type": "stream",
          "name": "stdout",
          "text": [
            "Downloading data from https://storage.googleapis.com/tensorflow/keras-applications/vgg16/vgg16_weights_tf_dim_ordering_tf_kernels_notop.h5\n",
            "58889256/58889256 [==============================] - 0s 0us/step\n"
          ]
        }
      ]
    },
    {
      "cell_type": "code",
      "source": [
        "# Freeze the layers in the base model (optional)\n",
        "for layer in base_model.layers:\n",
        "    layer.trainable = False"
      ],
      "metadata": {
        "id": "SVwdrn3E9IzK"
      },
      "execution_count": null,
      "outputs": []
    },
    {
      "cell_type": "code",
      "source": [
        "# Create a new model on top of the VGG16 base\n",
        "model = Sequential()\n",
        "model.add(base_model)\n",
        "model.add(Flatten())\n",
        "model.add(Dense(512, activation='relu'))\n",
        "model.add(Dropout(0.3))\n",
        "model.add(Dense(128,activation='relu'))\n",
        "model.add(Dense(64,activation='relu'))\n",
        "model.add(Dense(1, activation='sigmoid'))"
      ],
      "metadata": {
        "id": "6_Dy9ZLz9O6V"
      },
      "execution_count": null,
      "outputs": []
    },
    {
      "cell_type": "code",
      "source": [
        "# Compile the model\n",
        "model.compile(optimizer=Adam(), loss='binary_crossentropy', metrics=['accuracy'])"
      ],
      "metadata": {
        "id": "1chnJVoMUK4e"
      },
      "execution_count": null,
      "outputs": []
    },
    {
      "cell_type": "code",
      "source": [
        "# Print model summary\n",
        "model.summary()"
      ],
      "metadata": {
        "colab": {
          "base_uri": "https://localhost:8080/"
        },
        "id": "OtaPRayFUSwH",
        "outputId": "20bb7fa6-a528-4588-c651-f725b542eb76"
      },
      "execution_count": null,
      "outputs": [
        {
          "output_type": "stream",
          "name": "stdout",
          "text": [
            "Model: \"sequential\"\n",
            "_________________________________________________________________\n",
            " Layer (type)                Output Shape              Param #   \n",
            "=================================================================\n",
            " vgg16 (Functional)          (None, 7, 7, 512)         14714688  \n",
            "                                                                 \n",
            " flatten (Flatten)           (None, 25088)             0         \n",
            "                                                                 \n",
            " dense (Dense)               (None, 512)               12845568  \n",
            "                                                                 \n",
            " dropout (Dropout)           (None, 512)               0         \n",
            "                                                                 \n",
            " dense_1 (Dense)             (None, 128)               65664     \n",
            "                                                                 \n",
            " dense_2 (Dense)             (None, 64)                8256      \n",
            "                                                                 \n",
            " dense_3 (Dense)             (None, 1)                 65        \n",
            "                                                                 \n",
            "=================================================================\n",
            "Total params: 27634241 (105.42 MB)\n",
            "Trainable params: 12919553 (49.28 MB)\n",
            "Non-trainable params: 14714688 (56.13 MB)\n",
            "_________________________________________________________________\n"
          ]
        }
      ]
    },
    {
      "cell_type": "code",
      "source": [
        "# Fit the model with validation data\n",
        "history = model.fit(\n",
        "    X_train,\n",
        "    y_train,\n",
        "    epochs=10,\n",
        "    batch_size=32,\n",
        "    validation_data=(X_val, y_val)\n",
        ")"
      ],
      "metadata": {
        "colab": {
          "base_uri": "https://localhost:8080/"
        },
        "id": "5ij5WExKU02v",
        "outputId": "8c1eec18-22c3-4ac8-f928-6f7bda93ba26"
      },
      "execution_count": null,
      "outputs": [
        {
          "output_type": "stream",
          "name": "stdout",
          "text": [
            "Epoch 1/10\n",
            "37/37 [==============================] - 33s 465ms/step - loss: 0.9206 - accuracy: 0.6197 - val_loss: 0.4034 - val_accuracy: 0.8107\n",
            "Epoch 2/10\n",
            "37/37 [==============================] - 6s 171ms/step - loss: 0.5301 - accuracy: 0.7521 - val_loss: 0.3156 - val_accuracy: 0.8440\n",
            "Epoch 3/10\n",
            "37/37 [==============================] - 6s 171ms/step - loss: 0.3040 - accuracy: 0.8632 - val_loss: 0.1948 - val_accuracy: 0.9309\n",
            "Epoch 4/10\n",
            "37/37 [==============================] - 7s 199ms/step - loss: 0.2044 - accuracy: 0.9145 - val_loss: 0.1847 - val_accuracy: 0.9156\n",
            "Epoch 5/10\n",
            "37/37 [==============================] - 6s 173ms/step - loss: 0.1481 - accuracy: 0.9385 - val_loss: 0.1882 - val_accuracy: 0.9130\n",
            "Epoch 6/10\n",
            "37/37 [==============================] - 7s 202ms/step - loss: 0.0759 - accuracy: 0.9709 - val_loss: 0.1291 - val_accuracy: 0.9437\n",
            "Epoch 7/10\n",
            "37/37 [==============================] - 7s 202ms/step - loss: 0.0646 - accuracy: 0.9752 - val_loss: 0.1010 - val_accuracy: 0.9693\n",
            "Epoch 8/10\n",
            "37/37 [==============================] - 7s 179ms/step - loss: 0.0394 - accuracy: 0.9880 - val_loss: 0.1023 - val_accuracy: 0.9616\n",
            "Epoch 9/10\n",
            "37/37 [==============================] - 7s 203ms/step - loss: 0.0180 - accuracy: 0.9949 - val_loss: 0.1019 - val_accuracy: 0.9591\n",
            "Epoch 10/10\n",
            "37/37 [==============================] - 8s 206ms/step - loss: 0.0165 - accuracy: 0.9932 - val_loss: 0.2245 - val_accuracy: 0.9437\n"
          ]
        }
      ]
    },
    {
      "cell_type": "code",
      "source": [
        "# Evaluate the model on the test set\n",
        "test_loss, test_accuracy = model.evaluate(X_test, y_test)\n",
        "\n",
        "print(f\"Test Loss: {test_loss}\")\n",
        "print(f\"Test Accuracy: {test_accuracy}\")"
      ],
      "metadata": {
        "colab": {
          "base_uri": "https://localhost:8080/"
        },
        "id": "rFZTw_oKVA7v",
        "outputId": "5d0611cc-7ddc-4769-ef4c-e00afc110693"
      },
      "execution_count": null,
      "outputs": [
        {
          "output_type": "stream",
          "name": "stdout",
          "text": [
            "13/13 [==============================] - 2s 123ms/step - loss: 0.3182 - accuracy: 0.9258\n",
            "Test Loss: 0.31822988390922546\n",
            "Test Accuracy: 0.9258311986923218\n"
          ]
        }
      ]
    },
    {
      "cell_type": "code",
      "source": [
        "# Load and preprocess the image\n",
        "def preprocess_image(image_path):\n",
        "    img = cv2.imread(image_path)\n",
        "    cropped_img = crop_img(img)\n",
        "    resized_img = cv2.resize(cropped_img, (224, 224))\n",
        "    normalized_img = resized_img / 255.0  # Normalize to [0, 1] range\n",
        "    return normalized_img\n",
        "\n",
        "# Function to classify the image\n",
        "def classify_image(image_path):\n",
        "    preprocessed_img = preprocess_image(image_path)\n",
        "    input_img = np.expand_dims(preprocessed_img, axis=0)  # Add batch dimension\n",
        "    prediction = model.predict(input_img)\n",
        "    if prediction[0] < 0.5:\n",
        "        print(prediction)\n",
        "        return 'tumor'\n",
        "    else:\n",
        "        print(prediction)\n",
        "        return 'normal'"
      ],
      "metadata": {
        "id": "0fcDhU18LpDX"
      },
      "execution_count": null,
      "outputs": []
    },
    {
      "cell_type": "code",
      "source": [
        "img3 = '/content/Y10.jpg'\n",
        "result = classify_image(img3)\n",
        "print(f\"The image is classified as: {result}\")"
      ],
      "metadata": {
        "colab": {
          "base_uri": "https://localhost:8080/"
        },
        "id": "GHpg0AH545DI",
        "outputId": "5b25103a-8e78-41e8-f91b-6f18873c3701"
      },
      "execution_count": null,
      "outputs": [
        {
          "output_type": "stream",
          "name": "stdout",
          "text": [
            "1/1 [==============================] - 0s 22ms/step\n",
            "[[0.0001875]]\n",
            "The image is classified as: tumor\n"
          ]
        }
      ]
    },
    {
      "cell_type": "code",
      "source": [
        "img1 = '/content/y703.jpg'\n",
        "result = classify_image(img1)\n",
        "print(f\"The image is classified as: {result}\")"
      ],
      "metadata": {
        "colab": {
          "base_uri": "https://localhost:8080/"
        },
        "id": "oj1Q7yrFL6Az",
        "outputId": "82565e34-d840-477b-fce3-2f360551bdf7"
      },
      "execution_count": null,
      "outputs": [
        {
          "output_type": "stream",
          "name": "stdout",
          "text": [
            "1/1 [==============================] - 1s 1s/step\n",
            "[[0.97614187]]\n",
            "The image is classified as: normal\n"
          ]
        }
      ]
    },
    {
      "cell_type": "code",
      "source": [
        "img2 ='/content/Te-no_0017.jpg'\n",
        "result = classify_image(img2)\n",
        "print(f\"The image is classified as: {result}\")"
      ],
      "metadata": {
        "colab": {
          "base_uri": "https://localhost:8080/"
        },
        "id": "OW29NKKWMBg4",
        "outputId": "7f8fc3bb-df1e-4e88-cd3e-7de0ad130fb7"
      },
      "execution_count": null,
      "outputs": [
        {
          "output_type": "stream",
          "name": "stdout",
          "text": [
            "1/1 [==============================] - 0s 18ms/step\n",
            "[[0.64541507]]\n",
            "The image is classified as: normal\n"
          ]
        }
      ]
    },
    {
      "cell_type": "code",
      "source": [
        "img3 ='/content/Te-no_0015.jpg'\n",
        "result = classify_image(img3)\n",
        "print(f\"The image is classified as: {result}\")"
      ],
      "metadata": {
        "colab": {
          "base_uri": "https://localhost:8080/"
        },
        "id": "DQcB2lB4MH9Q",
        "outputId": "00e7740f-3f43-4a83-c520-e7288c87085d"
      },
      "execution_count": null,
      "outputs": [
        {
          "output_type": "stream",
          "name": "stdout",
          "text": [
            "1/1 [==============================] - 0s 27ms/step\n",
            "[[0.00210878]]\n",
            "The image is classified as: normal\n"
          ]
        }
      ]
    },
    {
      "cell_type": "markdown",
      "source": [
        "# Sequential Model with ResNet50 Base"
      ],
      "metadata": {
        "id": "BcFfxGJ9db0a"
      }
    },
    {
      "cell_type": "markdown",
      "source": [
        "# ResNet"
      ],
      "metadata": {
        "id": "GkvledjPM4t2"
      }
    },
    {
      "cell_type": "code",
      "source": [
        "from keras.applications.resnet import ResNet50\n",
        "\n",
        "resmodel= ResNet50(weights='imagenet', include_top=False, input_shape = (224,224,3))\n",
        "\n",
        "base_model_2 = resmodel"
      ],
      "metadata": {
        "colab": {
          "base_uri": "https://localhost:8080/"
        },
        "id": "xuPOt3t1M7Sg",
        "outputId": "3d53977b-241f-4690-b015-da62a6ff2e16"
      },
      "execution_count": null,
      "outputs": [
        {
          "output_type": "stream",
          "name": "stdout",
          "text": [
            "Downloading data from https://storage.googleapis.com/tensorflow/keras-applications/resnet/resnet50_weights_tf_dim_ordering_tf_kernels_notop.h5\n",
            "94765736/94765736 [==============================] - 1s 0us/step\n"
          ]
        }
      ]
    },
    {
      "cell_type": "code",
      "source": [
        "# Freeze the layers in the base model (optional)\n",
        "for layer in base_model_2.layers:\n",
        "    layer.trainable = False\n",
        "\n",
        "# Create a new model on top of the VGG16 base\n",
        "model2 = Sequential()\n",
        "model2.add(base_model_2)\n",
        "model2.add(Flatten())\n",
        "model2.add(Dense(512, activation='relu'))\n",
        "model2.add(Dropout(0.3))\n",
        "model2.add(Dense(128,activation='relu'))\n",
        "model2.add(Dense(64,activation='relu'))\n",
        "model2.add(Dense(1, activation='sigmoid'))\n",
        "\n",
        "# Compile the model\n",
        "model2.compile(optimizer=Adam(), loss='binary_crossentropy', metrics=['accuracy'])\n",
        "\n",
        "model2.summary()"
      ],
      "metadata": {
        "colab": {
          "base_uri": "https://localhost:8080/"
        },
        "id": "Fhapf1ThNMBF",
        "outputId": "7e77647e-c8d6-4603-ccd0-d55487da76ed"
      },
      "execution_count": null,
      "outputs": [
        {
          "output_type": "stream",
          "name": "stdout",
          "text": [
            "Model: \"sequential_1\"\n",
            "_________________________________________________________________\n",
            " Layer (type)                Output Shape              Param #   \n",
            "=================================================================\n",
            " resnet50 (Functional)       (None, 7, 7, 2048)        23587712  \n",
            "                                                                 \n",
            " flatten_1 (Flatten)         (None, 100352)            0         \n",
            "                                                                 \n",
            " dense_4 (Dense)             (None, 512)               51380736  \n",
            "                                                                 \n",
            " dropout_1 (Dropout)         (None, 512)               0         \n",
            "                                                                 \n",
            " dense_5 (Dense)             (None, 128)               65664     \n",
            "                                                                 \n",
            " dense_6 (Dense)             (None, 64)                8256      \n",
            "                                                                 \n",
            " dense_7 (Dense)             (None, 1)                 65        \n",
            "                                                                 \n",
            "=================================================================\n",
            "Total params: 75042433 (286.26 MB)\n",
            "Trainable params: 51454721 (196.28 MB)\n",
            "Non-trainable params: 23587712 (89.98 MB)\n",
            "_________________________________________________________________\n"
          ]
        }
      ]
    },
    {
      "cell_type": "code",
      "source": [
        "# Fit the model with validation data\n",
        "history = model2.fit(\n",
        "    X_train,\n",
        "    y_train,\n",
        "    epochs=10,\n",
        "    batch_size=32,\n",
        "    validation_data=(X_val, y_val)\n",
        ")"
      ],
      "metadata": {
        "id": "E62uYjhxNj7I"
      },
      "execution_count": null,
      "outputs": []
    },
    {
      "cell_type": "code",
      "source": [
        "# Evaluate the model on the test set\n",
        "test_loss2, test_accuracy2 = model2.evaluate(X_test, y_test)\n",
        "\n",
        "print(f\"Test Loss: {test_loss2}\")\n",
        "print(f\"Test Accuracy: {test_accuracy2}\")"
      ],
      "metadata": {
        "colab": {
          "base_uri": "https://localhost:8080/"
        },
        "id": "Hkqzpy-fN6x6",
        "outputId": "78de1495-c334-444e-f615-9340d763d5b3"
      },
      "execution_count": null,
      "outputs": [
        {
          "output_type": "stream",
          "name": "stdout",
          "text": [
            "13/13 [==============================] - 2s 93ms/step - loss: 0.7198 - accuracy: 0.4846\n",
            "Test Loss: 0.7198423743247986\n",
            "Test Accuracy: 0.48461538553237915\n"
          ]
        }
      ]
    },
    {
      "cell_type": "markdown",
      "source": [
        "# CNN"
      ],
      "metadata": {
        "id": "o4RcrpivOixd"
      }
    },
    {
      "cell_type": "code",
      "source": [
        "model3 = Sequential()\n",
        "model3.add(Conv2D(filters=16, kernel_size=(3, 3), activation=\"relu\", kernel_initializer=\"he_uniform\", padding=\"same\", input_shape=(224, 224, 3)))\n",
        "model3.add(MaxPooling2D(pool_size=(2, 2)))\n",
        "model3.add(Conv2D(filters=32, kernel_size=(3, 3), activation=\"relu\", kernel_initializer=\"he_uniform\", padding=\"same\"))\n",
        "model3.add(MaxPooling2D(pool_size=(2, 2)))\n",
        "model3.add(Conv2D(filters=64, kernel_size=(3, 3), activation=\"relu\", kernel_initializer=\"he_uniform\", padding=\"same\"))\n",
        "model3.add(MaxPooling2D(pool_size=(2, 2)))\n",
        "model3.add(Flatten())\n",
        "model3.add(Dense(units=128, activation=\"relu\", kernel_initializer=\"he_uniform\"))\n",
        "model3.add(Dense(units=1, activation=\"sigmoid\"))\n",
        "\n",
        "# compile the model\n",
        "model3.compile(optimizer=\"adam\",loss=\"binary_crossentropy\",metrics=[\"accuracy\"])\n",
        "\n",
        "model3.summary()"
      ],
      "metadata": {
        "colab": {
          "base_uri": "https://localhost:8080/"
        },
        "id": "ML02HKOMTfwg",
        "outputId": "a2ccc5bc-e082-489d-b8e5-81aab3ffaf30"
      },
      "execution_count": null,
      "outputs": [
        {
          "output_type": "stream",
          "name": "stdout",
          "text": [
            "Model: \"sequential\"\n",
            "_________________________________________________________________\n",
            " Layer (type)                Output Shape              Param #   \n",
            "=================================================================\n",
            " conv2d (Conv2D)             (None, 224, 224, 16)      448       \n",
            "                                                                 \n",
            " max_pooling2d (MaxPooling2  (None, 112, 112, 16)      0         \n",
            " D)                                                              \n",
            "                                                                 \n",
            " conv2d_1 (Conv2D)           (None, 112, 112, 32)      4640      \n",
            "                                                                 \n",
            " max_pooling2d_1 (MaxPoolin  (None, 56, 56, 32)        0         \n",
            " g2D)                                                            \n",
            "                                                                 \n",
            " conv2d_2 (Conv2D)           (None, 56, 56, 64)        18496     \n",
            "                                                                 \n",
            " max_pooling2d_2 (MaxPoolin  (None, 28, 28, 64)        0         \n",
            " g2D)                                                            \n",
            "                                                                 \n",
            " flatten (Flatten)           (None, 50176)             0         \n",
            "                                                                 \n",
            " dense (Dense)               (None, 128)               6422656   \n",
            "                                                                 \n",
            " dense_1 (Dense)             (None, 1)                 129       \n",
            "                                                                 \n",
            "=================================================================\n",
            "Total params: 6446369 (24.59 MB)\n",
            "Trainable params: 6446369 (24.59 MB)\n",
            "Non-trainable params: 0 (0.00 Byte)\n",
            "_________________________________________________________________\n"
          ]
        }
      ]
    },
    {
      "cell_type": "code",
      "source": [
        "# Fit the model with validation data\n",
        "history3 = model3.fit(\n",
        "    X_train,\n",
        "    y_train,\n",
        "    epochs=10,\n",
        "    batch_size=32,\n",
        "    validation_data=(X_val, y_val)\n",
        ")"
      ],
      "metadata": {
        "id": "28sMaE8U9VCO",
        "colab": {
          "base_uri": "https://localhost:8080/"
        },
        "outputId": "10c8a3b8-ce9b-4ff4-926c-a1d60c89ccc7"
      },
      "execution_count": null,
      "outputs": [
        {
          "output_type": "stream",
          "name": "stdout",
          "text": [
            "Epoch 1/10\n",
            "37/37 [==============================] - 10s 79ms/step - loss: 3.8005 - accuracy: 0.5584 - val_loss: 0.6726 - val_accuracy: 0.6041\n",
            "Epoch 2/10\n",
            "37/37 [==============================] - 1s 35ms/step - loss: 0.6418 - accuracy: 0.6186 - val_loss: 0.6250 - val_accuracy: 0.6658\n",
            "Epoch 3/10\n",
            "37/37 [==============================] - 1s 36ms/step - loss: 0.5317 - accuracy: 0.7509 - val_loss: 0.5799 - val_accuracy: 0.6967\n",
            "Epoch 4/10\n",
            "37/37 [==============================] - 1s 35ms/step - loss: 0.3874 - accuracy: 0.8445 - val_loss: 0.4829 - val_accuracy: 0.7609\n",
            "Epoch 5/10\n",
            "37/37 [==============================] - 2s 42ms/step - loss: 0.3028 - accuracy: 0.8746 - val_loss: 0.4828 - val_accuracy: 0.7738\n",
            "Epoch 6/10\n",
            "37/37 [==============================] - 2s 45ms/step - loss: 0.2254 - accuracy: 0.9098 - val_loss: 0.4812 - val_accuracy: 0.7943\n",
            "Epoch 7/10\n",
            "37/37 [==============================] - 2s 41ms/step - loss: 0.1666 - accuracy: 0.9416 - val_loss: 0.4436 - val_accuracy: 0.7995\n",
            "Epoch 8/10\n",
            "37/37 [==============================] - 1s 36ms/step - loss: 0.1258 - accuracy: 0.9656 - val_loss: 0.4232 - val_accuracy: 0.8123\n",
            "Epoch 9/10\n",
            "37/37 [==============================] - 1s 39ms/step - loss: 0.0739 - accuracy: 0.9871 - val_loss: 0.4769 - val_accuracy: 0.8303\n",
            "Epoch 10/10\n",
            "37/37 [==============================] - 1s 35ms/step - loss: 0.0430 - accuracy: 0.9931 - val_loss: 0.5703 - val_accuracy: 0.8149\n"
          ]
        }
      ]
    },
    {
      "cell_type": "code",
      "source": [
        "# Evaluate the model on the test set\n",
        "test_loss3, test_accuracy3 = model3.evaluate(X_test, y_test)\n",
        "\n",
        "print(f\"Test Loss: {test_loss3}\")\n",
        "print(f\"Test Accuracy: {test_accuracy3}\")"
      ],
      "metadata": {
        "colab": {
          "base_uri": "https://localhost:8080/"
        },
        "id": "zct_eDUJ9ZFs",
        "outputId": "0f7b52ee-5e2f-4135-98e9-3c0f5757c4d1"
      },
      "execution_count": null,
      "outputs": [
        {
          "output_type": "stream",
          "name": "stdout",
          "text": [
            "13/13 [==============================] - 0s 17ms/step - loss: 0.5911 - accuracy: 0.8406\n",
            "Test Loss: 0.5911273956298828\n",
            "Test Accuracy: 0.8406169414520264\n"
          ]
        }
      ]
    },
    {
      "cell_type": "code",
      "source": [
        "# Load and preprocess the image\n",
        "def preprocess_image(image_path):\n",
        "    img = cv2.imread(image_path)\n",
        "    cropped_img = crop_img(img)\n",
        "    resized_img = cv2.resize(cropped_img, (224, 224))\n",
        "    normalized_img = resized_img / 255.0  # Normalize to [0, 1] range\n",
        "    return normalized_img\n",
        "\n"
      ],
      "metadata": {
        "id": "jzRZknO9Hysn"
      },
      "execution_count": null,
      "outputs": []
    },
    {
      "cell_type": "code",
      "source": [
        "# Function to classify the image\n",
        "def classify_image(image_path):\n",
        "    preprocessed_img = preprocess_image(image_path)\n",
        "    input_img = np.expand_dims(preprocessed_img, axis=0)  # Add batch dimension\n",
        "    prediction = model3.predict(input_img)\n",
        "    if prediction[0] < 0.5:\n",
        "        print(prediction)\n",
        "        return 'tumor'\n",
        "    else:\n",
        "        print(prediction)\n",
        "        return 'normal'"
      ],
      "metadata": {
        "id": "azUxxs3uH1p1"
      },
      "execution_count": null,
      "outputs": []
    },
    {
      "cell_type": "code",
      "source": [
        "img1 = '/content/y703.jpg'\n",
        "result = classify_image(img1)\n",
        "print(f\"The image is classified as: {result}\")"
      ],
      "metadata": {
        "colab": {
          "base_uri": "https://localhost:8080/"
        },
        "id": "jxPDwI6GHXkv",
        "outputId": "1884c88d-79e5-4563-9094-24ec14438e71"
      },
      "execution_count": null,
      "outputs": [
        {
          "output_type": "stream",
          "name": "stdout",
          "text": [
            "1/1 [==============================] - 0s 17ms/step\n",
            "[[0.9419334]]\n",
            "The image is classified as: tumor\n"
          ]
        }
      ]
    },
    {
      "cell_type": "code",
      "source": [
        "img2 ='/content/Te-no_0017.jpg'\n",
        "result = classify_image(img2)\n",
        "print(f\"The image is classified as: {result}\")"
      ],
      "metadata": {
        "colab": {
          "base_uri": "https://localhost:8080/"
        },
        "id": "ZLPOrA2gIek0",
        "outputId": "5df11709-996c-4da8-d73e-82d61df2721d"
      },
      "execution_count": null,
      "outputs": [
        {
          "output_type": "stream",
          "name": "stdout",
          "text": [
            "1/1 [==============================] - 0s 17ms/step\n",
            "[[0.5652458]]\n",
            "The image is classified as: tumor\n"
          ]
        }
      ]
    },
    {
      "cell_type": "markdown",
      "source": [
        "# Sequential Model with MobileNet Base"
      ],
      "metadata": {
        "id": "VSUXgO-Hdscj"
      }
    },
    {
      "cell_type": "markdown",
      "source": [
        "# MobileNet"
      ],
      "metadata": {
        "id": "qPesEVKiskvp"
      }
    },
    {
      "cell_type": "code",
      "source": [
        "from keras.applications.mobilenet import MobileNet\n",
        "\n",
        "# Load the MobileNet model\n",
        "mobilenet = MobileNet(weights='imagenet', include_top=False, input_shape=(224,224,3))\n",
        "\n",
        "base_model_4 = mobilenet"
      ],
      "metadata": {
        "id": "6wx2RqPnqmAE",
        "colab": {
          "base_uri": "https://localhost:8080/"
        },
        "outputId": "6c6ad78f-83fd-449c-eb7f-fd127c7af957"
      },
      "execution_count": null,
      "outputs": [
        {
          "output_type": "stream",
          "name": "stdout",
          "text": [
            "Downloading data from https://storage.googleapis.com/tensorflow/keras-applications/mobilenet/mobilenet_1_0_224_tf_no_top.h5\n",
            "17225924/17225924 [==============================] - 1s 0us/step\n"
          ]
        }
      ]
    },
    {
      "cell_type": "code",
      "source": [
        "# Freeze the layers in the base model (optional)\n",
        "for layer in base_model_4.layers:\n",
        "    layer.trainable = False\n",
        "\n",
        "# Create a new model on top of the MobileNet base\n",
        "model4 = Sequential()\n",
        "model4.add(base_model_4)\n",
        "model4.add(Flatten())\n",
        "model4.add(Dense(512, activation='relu'))\n",
        "model4.add(Dropout(0.3))\n",
        "model4.add(Dense(128,activation='relu'))\n",
        "model4.add(Dense(64,activation='relu'))\n",
        "model4.add(Dense(1, activation='sigmoid'))\n",
        "\n",
        "# Compile the model\n",
        "model4.compile(optimizer=Adam(), loss='binary_crossentropy', metrics=['accuracy'])\n",
        "\n",
        "model4.summary()\n"
      ],
      "metadata": {
        "colab": {
          "base_uri": "https://localhost:8080/"
        },
        "id": "X-1wkW7DrPV1",
        "outputId": "5d4396c7-0552-4d39-b00f-bf01f6287480"
      },
      "execution_count": null,
      "outputs": [
        {
          "output_type": "stream",
          "name": "stdout",
          "text": [
            "Model: \"sequential\"\n",
            "_________________________________________________________________\n",
            " Layer (type)                Output Shape              Param #   \n",
            "=================================================================\n",
            " mobilenet_1.00_224 (Functi  (None, 7, 7, 1024)        3228864   \n",
            " onal)                                                           \n",
            "                                                                 \n",
            " flatten (Flatten)           (None, 50176)             0         \n",
            "                                                                 \n",
            " dense (Dense)               (None, 512)               25690624  \n",
            "                                                                 \n",
            " dropout (Dropout)           (None, 512)               0         \n",
            "                                                                 \n",
            " dense_1 (Dense)             (None, 128)               65664     \n",
            "                                                                 \n",
            " dense_2 (Dense)             (None, 64)                8256      \n",
            "                                                                 \n",
            " dense_3 (Dense)             (None, 1)                 65        \n",
            "                                                                 \n",
            "=================================================================\n",
            "Total params: 28993473 (110.60 MB)\n",
            "Trainable params: 25764609 (98.28 MB)\n",
            "Non-trainable params: 3228864 (12.32 MB)\n",
            "_________________________________________________________________\n"
          ]
        }
      ]
    },
    {
      "cell_type": "code",
      "source": [
        "# Fit the model with validation data\n",
        "history = model4.fit(\n",
        "    X_train,\n",
        "    y_train,\n",
        "    epochs=10,\n",
        "    batch_size=32,\n",
        "    validation_data=(X_val, y_val)\n",
        ")"
      ],
      "metadata": {
        "colab": {
          "base_uri": "https://localhost:8080/"
        },
        "id": "R_Js-b2YrgJo",
        "outputId": "d4074ef8-6737-417a-9f7a-d7b90108cb29"
      },
      "execution_count": null,
      "outputs": [
        {
          "output_type": "stream",
          "name": "stdout",
          "text": [
            "Epoch 1/10\n",
            "37/37 [==============================] - 15s 170ms/step - loss: 3.4379 - accuracy: 0.6913 - val_loss: 0.2612 - val_accuracy: 0.9304\n",
            "Epoch 2/10\n",
            "37/37 [==============================] - 2s 65ms/step - loss: 0.3751 - accuracy: 0.9054 - val_loss: 0.2187 - val_accuracy: 0.9510\n",
            "Epoch 3/10\n",
            "37/37 [==============================] - 2s 66ms/step - loss: 0.1689 - accuracy: 0.9458 - val_loss: 0.1209 - val_accuracy: 0.9588\n",
            "Epoch 4/10\n",
            "37/37 [==============================] - 2s 65ms/step - loss: 0.0807 - accuracy: 0.9776 - val_loss: 0.1125 - val_accuracy: 0.9742\n",
            "Epoch 5/10\n",
            "37/37 [==============================] - 3s 69ms/step - loss: 0.0161 - accuracy: 0.9948 - val_loss: 0.1284 - val_accuracy: 0.9665\n",
            "Epoch 6/10\n",
            "37/37 [==============================] - 3s 70ms/step - loss: 0.0298 - accuracy: 0.9897 - val_loss: 0.0784 - val_accuracy: 0.9794\n",
            "Epoch 7/10\n",
            "37/37 [==============================] - 2s 63ms/step - loss: 0.0057 - accuracy: 0.9974 - val_loss: 0.0770 - val_accuracy: 0.9820\n",
            "Epoch 8/10\n",
            "37/37 [==============================] - 2s 62ms/step - loss: 0.0123 - accuracy: 0.9966 - val_loss: 0.0718 - val_accuracy: 0.9794\n",
            "Epoch 9/10\n",
            "37/37 [==============================] - 2s 62ms/step - loss: 0.0082 - accuracy: 0.9983 - val_loss: 0.0723 - val_accuracy: 0.9794\n",
            "Epoch 10/10\n",
            "37/37 [==============================] - 2s 60ms/step - loss: 0.0039 - accuracy: 0.9983 - val_loss: 0.0842 - val_accuracy: 0.9768\n"
          ]
        }
      ]
    },
    {
      "cell_type": "code",
      "source": [
        "# Evaluate the model on the test set\n",
        "test_loss4, test_accuracy4 = model4.evaluate(X_test, y_test)"
      ],
      "metadata": {
        "colab": {
          "base_uri": "https://localhost:8080/"
        },
        "id": "P_nZuWQhrk1c",
        "outputId": "f5b4cabd-0891-4d23-a159-de3ec4d0fa77"
      },
      "execution_count": null,
      "outputs": [
        {
          "output_type": "stream",
          "name": "stdout",
          "text": [
            "13/13 [==============================] - 1s 42ms/step - loss: 0.0893 - accuracy: 0.9665\n"
          ]
        }
      ]
    },
    {
      "cell_type": "code",
      "source": [
        "print(f\"Test Loss: {test_loss4}\")\n",
        "print(f\"Test Accuracy: {test_accuracy4}\")"
      ],
      "metadata": {
        "colab": {
          "base_uri": "https://localhost:8080/"
        },
        "id": "Rd6ZkbwIrr57",
        "outputId": "bbffb5b9-058c-47a1-e7ca-2c5574fcabf6"
      },
      "execution_count": null,
      "outputs": [
        {
          "output_type": "stream",
          "name": "stdout",
          "text": [
            "Test Loss: 0.08932127058506012\n",
            "Test Accuracy: 0.9664948582649231\n"
          ]
        }
      ]
    },
    {
      "cell_type": "code",
      "source": [
        "# Save the model to a file\n",
        "model4.save(\"mobilenet_model.h5\")"
      ],
      "metadata": {
        "colab": {
          "base_uri": "https://localhost:8080/"
        },
        "id": "_gyspi6wLfrZ",
        "outputId": "3e9268c3-c80f-471e-ef5b-137bb6342300"
      },
      "execution_count": null,
      "outputs": [
        {
          "output_type": "stream",
          "name": "stderr",
          "text": [
            "/usr/local/lib/python3.10/dist-packages/keras/src/engine/training.py:3103: UserWarning: You are saving your model as an HDF5 file via `model.save()`. This file format is considered legacy. We recommend using instead the native Keras format, e.g. `model.save('my_model.keras')`.\n",
            "  saving_api.save_model(\n"
          ]
        }
      ]
    },
    {
      "cell_type": "code",
      "source": [
        "# Load and preprocess the image\n",
        "def preprocess_image(image_path):\n",
        "    img = cv2.imread(image_path)\n",
        "    cropped_img = crop_img(img)\n",
        "    resized_img = cv2.resize(cropped_img, (224, 224))\n",
        "    normalized_img = resized_img / 255.0  # Normalize to [0, 1] range\n",
        "    return normalized_img\n",
        "\n",
        "# Function to classify the image\n",
        "def classify_image(image_path):\n",
        "    preprocessed_img = preprocess_image(image_path)\n",
        "    input_img = np.expand_dims(preprocessed_img, axis=0)  # Add batch dimension\n",
        "    prediction = model4.predict(input_img)\n",
        "    if prediction[0] < 0.5:\n",
        "        print(prediction)\n",
        "        return 'tumor'\n",
        "    else:\n",
        "        print(prediction)\n",
        "        return 'normal'\n"
      ],
      "metadata": {
        "id": "aUptOhSLtNNV"
      },
      "execution_count": null,
      "outputs": []
    },
    {
      "cell_type": "code",
      "source": [
        "img1 = '/content/Y1.jpg'\n",
        "result = classify_image(img1)\n",
        "print(f\"The image is classified as: {result}\")"
      ],
      "metadata": {
        "colab": {
          "base_uri": "https://localhost:8080/"
        },
        "id": "gC8yz_SOtwFN",
        "outputId": "871d8410-b463-47a1-c484-68691277b812"
      },
      "execution_count": null,
      "outputs": [
        {
          "output_type": "stream",
          "name": "stdout",
          "text": [
            "1/1 [==============================] - 1s 938ms/step\n",
            "[[2.5784414e-12]]\n",
            "The image is classified as: tumor\n"
          ]
        }
      ]
    },
    {
      "cell_type": "code",
      "source": [
        "img2 ='/content/Te-no_0017.jpg'\n",
        "result = classify_image(img2)\n",
        "print(f\"The image is classified as: {result}\")"
      ],
      "metadata": {
        "colab": {
          "base_uri": "https://localhost:8080/"
        },
        "id": "KsROzXQbtw5Y",
        "outputId": "86389fee-4863-4a81-ecab-86c18fe9ea4f"
      },
      "execution_count": null,
      "outputs": [
        {
          "output_type": "stream",
          "name": "stdout",
          "text": [
            "1/1 [==============================] - 0s 45ms/step\n",
            "[[0.58457893]]\n",
            "The image is classified as: normal\n"
          ]
        }
      ]
    },
    {
      "cell_type": "markdown",
      "source": [
        "# Sequential Model with DenseNet Base"
      ],
      "metadata": {
        "id": "ApMxZj4Ndzxr"
      }
    },
    {
      "cell_type": "markdown",
      "source": [
        "# DenseNet"
      ],
      "metadata": {
        "id": "4u9eMal5wa5J"
      }
    },
    {
      "cell_type": "code",
      "source": [
        "from keras.applications.densenet import DenseNet121\n",
        "\n",
        "densmodel= DenseNet121(weights='imagenet', include_top=False, input_shape = (224,224,3))\n",
        "\n",
        "base_model_5 = densmodel"
      ],
      "metadata": {
        "id": "DfbV0sRgvaHO"
      },
      "execution_count": null,
      "outputs": []
    },
    {
      "cell_type": "code",
      "source": [
        "# Freeze the layers in the base model (optional)\n",
        "for layer in base_model_5.layers:\n",
        "    layer.trainable = False\n",
        "\n",
        "# Create a new model on top of the DenseNet base\n",
        "model5 = Sequential()\n",
        "model5.add(base_model_5)\n",
        "model5.add(Flatten())\n",
        "model5.add(Dense(512, activation='relu'))\n",
        "model5.add(Dropout(0.3))\n",
        "model5.add(Dense(128,activation='relu'))\n",
        "model5.add(Dense(64,activation='relu'))\n",
        "model5.add(Dense(1, activation='sigmoid'))\n",
        "\n",
        "# Compile the model\n",
        "model5.compile(optimizer=Adam(), loss='binary_crossentropy', metrics=['accuracy'])\n",
        "\n",
        "model5.summary()"
      ],
      "metadata": {
        "colab": {
          "base_uri": "https://localhost:8080/"
        },
        "id": "Mv4KxIWfvolL",
        "outputId": "0f43453c-f7da-4075-b69f-2020af40b720"
      },
      "execution_count": null,
      "outputs": [
        {
          "output_type": "stream",
          "name": "stdout",
          "text": [
            "Model: \"sequential_1\"\n",
            "_________________________________________________________________\n",
            " Layer (type)                Output Shape              Param #   \n",
            "=================================================================\n",
            " densenet121 (Functional)    (None, 7, 7, 1024)        7037504   \n",
            "                                                                 \n",
            " flatten_1 (Flatten)         (None, 50176)             0         \n",
            "                                                                 \n",
            " dense_4 (Dense)             (None, 512)               25690624  \n",
            "                                                                 \n",
            " dropout_1 (Dropout)         (None, 512)               0         \n",
            "                                                                 \n",
            " dense_5 (Dense)             (None, 128)               65664     \n",
            "                                                                 \n",
            " dense_6 (Dense)             (None, 64)                8256      \n",
            "                                                                 \n",
            " dense_7 (Dense)             (None, 1)                 65        \n",
            "                                                                 \n",
            "=================================================================\n",
            "Total params: 32802113 (125.13 MB)\n",
            "Trainable params: 25764609 (98.28 MB)\n",
            "Non-trainable params: 7037504 (26.85 MB)\n",
            "_________________________________________________________________\n"
          ]
        }
      ]
    },
    {
      "cell_type": "code",
      "source": [
        "# Fit the model with validation data\n",
        "history = model5.fit(\n",
        "    X_train,\n",
        "    y_train,\n",
        "    epochs=10,\n",
        "    batch_size=32,\n",
        "    validation_data=(X_val, y_val)\n",
        ")\n"
      ],
      "metadata": {
        "colab": {
          "base_uri": "https://localhost:8080/"
        },
        "id": "7kQo6ZQ9v6gv",
        "outputId": "d68429a9-f6ab-4697-92f8-a68d841b53c5"
      },
      "execution_count": null,
      "outputs": [
        {
          "output_type": "stream",
          "name": "stdout",
          "text": [
            "Epoch 1/10\n",
            "37/37 [==============================] - 26s 376ms/step - loss: 2.7364 - accuracy: 0.6573 - val_loss: 0.5016 - val_accuracy: 0.8159\n",
            "Epoch 2/10\n",
            "37/37 [==============================] - 5s 130ms/step - loss: 0.6588 - accuracy: 0.8231 - val_loss: 0.2265 - val_accuracy: 0.9156\n",
            "Epoch 3/10\n",
            "37/37 [==============================] - 5s 128ms/step - loss: 0.2303 - accuracy: 0.9222 - val_loss: 0.1348 - val_accuracy: 0.9412\n",
            "Epoch 4/10\n",
            "37/37 [==============================] - 5s 135ms/step - loss: 0.1340 - accuracy: 0.9487 - val_loss: 0.2075 - val_accuracy: 0.9258\n",
            "Epoch 5/10\n",
            "37/37 [==============================] - 5s 128ms/step - loss: 0.0940 - accuracy: 0.9615 - val_loss: 0.1035 - val_accuracy: 0.9642\n",
            "Epoch 6/10\n",
            "37/37 [==============================] - 5s 129ms/step - loss: 0.0460 - accuracy: 0.9855 - val_loss: 0.0796 - val_accuracy: 0.9693\n",
            "Epoch 7/10\n",
            "37/37 [==============================] - 5s 139ms/step - loss: 0.0173 - accuracy: 0.9957 - val_loss: 0.0964 - val_accuracy: 0.9668\n",
            "Epoch 8/10\n",
            "37/37 [==============================] - 5s 133ms/step - loss: 0.0143 - accuracy: 0.9966 - val_loss: 0.0937 - val_accuracy: 0.9642\n",
            "Epoch 9/10\n",
            "37/37 [==============================] - 5s 130ms/step - loss: 0.0115 - accuracy: 0.9957 - val_loss: 0.1057 - val_accuracy: 0.9565\n",
            "Epoch 10/10\n",
            "37/37 [==============================] - 5s 138ms/step - loss: 0.0217 - accuracy: 0.9932 - val_loss: 0.0696 - val_accuracy: 0.9770\n"
          ]
        }
      ]
    },
    {
      "cell_type": "code",
      "source": [
        "# Evaluate the model on the test set\n",
        "test_loss5, test_accuracy5 = model5.evaluate(X_test, y_test)\n",
        "\n",
        "print(f\"Test Loss: {test_loss5}\")\n",
        "print(f\"Test Accuracy: {test_accuracy5}\")"
      ],
      "metadata": {
        "colab": {
          "base_uri": "https://localhost:8080/"
        },
        "id": "UUP_cZCUv_y9",
        "outputId": "8e1dacce-cab4-4989-e20e-08441f6d30b2"
      },
      "execution_count": null,
      "outputs": [
        {
          "output_type": "stream",
          "name": "stdout",
          "text": [
            "13/13 [==============================] - 1s 95ms/step - loss: 0.1433 - accuracy: 0.9591\n",
            "Test Loss: 0.14332927763462067\n",
            "Test Accuracy: 0.9590792655944824\n"
          ]
        }
      ]
    },
    {
      "cell_type": "code",
      "source": [
        "# Load and preprocess the image\n",
        "def preprocess_image(image_path):\n",
        "    img = cv2.imread(image_path)\n",
        "    cropped_img = crop_img(img)\n",
        "    resized_img = cv2.resize(cropped_img, (224, 224))\n",
        "    normalized_img = resized_img / 255.0  # Normalize to [0, 1] range\n",
        "    return normalized_img\n",
        "\n",
        "# Function to classify the image\n",
        "def classify_image(image_path):\n",
        "    preprocessed_img = preprocess_image(image_path)\n",
        "    input_img = np.expand_dims(preprocessed_img, axis=0)  # Add batch dimension\n",
        "    prediction = model5.predict(input_img)\n",
        "    if prediction[0] < 0.5:\n",
        "        print(prediction)\n",
        "        return 'tumor'\n",
        "    else:\n",
        "        print(prediction)\n",
        "        return 'normal'"
      ],
      "metadata": {
        "id": "M2-Q4v97wGxh"
      },
      "execution_count": null,
      "outputs": []
    },
    {
      "cell_type": "code",
      "source": [
        "img1 = '/content/Y1.jpg'\n",
        "result = classify_image(img1)\n",
        "print(f\"The image is classified as: {result}\")"
      ],
      "metadata": {
        "colab": {
          "base_uri": "https://localhost:8080/"
        },
        "id": "6lM8dtxCwOCy",
        "outputId": "2f067823-5319-4a2b-cdeb-ac4eecee4902"
      },
      "execution_count": null,
      "outputs": [
        {
          "output_type": "stream",
          "name": "stdout",
          "text": [
            "1/1 [==============================] - 4s 4s/step\n",
            "[[5.293991e-07]]\n",
            "The image is classified as: tumor\n"
          ]
        }
      ]
    },
    {
      "cell_type": "code",
      "source": [
        "img2 ='/content/Te-no_0017.jpg'\n",
        "result = classify_image(img2)\n",
        "print(f\"The image is classified as: {result}\")"
      ],
      "metadata": {
        "colab": {
          "base_uri": "https://localhost:8080/"
        },
        "id": "ytZtJwmswUZV",
        "outputId": "65fe2d66-d858-453b-e4b1-4daa88d739d9"
      },
      "execution_count": null,
      "outputs": [
        {
          "output_type": "stream",
          "name": "stdout",
          "text": [
            "1/1 [==============================] - 0s 34ms/step\n",
            "[[0.97611517]]\n",
            "The image is classified as: normal\n"
          ]
        }
      ]
    }
  ]
}