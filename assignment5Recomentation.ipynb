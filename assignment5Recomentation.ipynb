{
  "nbformat": 4,
  "nbformat_minor": 0,
  "metadata": {
    "colab": {
      "provenance": []
    },
    "kernelspec": {
      "name": "python3",
      "display_name": "Python 3"
    },
    "language_info": {
      "name": "python"
    }
  },
  "cells": [
    {
      "cell_type": "code",
      "execution_count": 6,
      "metadata": {
        "id": "4kQBdF2mOwEt"
      },
      "outputs": [],
      "source": [
        "import pandas as pd\n",
        "from sklearn.metrics.pairwise import cosine_similarity\n",
        "\n",
        "# Load the dataset\n",
        "data = pd.read_csv(\"/content/jokes-data.csv\")"
      ]
    },
    {
      "cell_type": "code",
      "source": [
        "# Check for Missing Values\n",
        "missing_values = data.isnull().sum()\n",
        "print(\"Missing Values:\\n\", missing_values)\n",
        "\n",
        "# Drop Unnecessary Columns\n",
        "data.drop(columns=['id'], inplace=True)"
      ],
      "metadata": {
        "colab": {
          "base_uri": "https://localhost:8080/"
        },
        "id": "_YQUYLjbPG-h",
        "outputId": "bd8b9c21-3d11-4802-e438-7c540e910d6d"
      },
      "execution_count": 7,
      "outputs": [
        {
          "output_type": "stream",
          "name": "stdout",
          "text": [
            "Missing Values:\n",
            " id         0\n",
            "user_id    0\n",
            "joke_id    0\n",
            "Rating     0\n",
            "dtype: int64\n"
          ]
        }
      ]
    },
    {
      "cell_type": "code",
      "source": [
        "# Check for Duplicates\n",
        "duplicates = data.duplicated().sum()\n",
        "print(\"Duplicate Rows:\", duplicates)"
      ],
      "metadata": {
        "colab": {
          "base_uri": "https://localhost:8080/"
        },
        "id": "PPLkRoNAPXfW",
        "outputId": "8d9999a5-2240-4aae-97af-3803a4acdfbb"
      },
      "execution_count": 8,
      "outputs": [
        {
          "output_type": "stream",
          "name": "stdout",
          "text": [
            "Duplicate Rows: 0\n"
          ]
        }
      ]
    },
    {
      "cell_type": "code",
      "source": [
        "print(data.head())"
      ],
      "metadata": {
        "colab": {
          "base_uri": "https://localhost:8080/"
        },
        "id": "8gCZQluwPbpW",
        "outputId": "b273f710-b977-48c6-e1c1-ffe0b55cac8f"
      },
      "execution_count": 9,
      "outputs": [
        {
          "output_type": "stream",
          "name": "stdout",
          "text": [
            "   user_id  joke_id  Rating\n",
            "0    31030      110   2.750\n",
            "1    16144      109   5.094\n",
            "2    23098        6  -6.438\n",
            "3    14273       86   4.406\n",
            "4    18419      134   9.375\n"
          ]
        }
      ]
    },
    {
      "cell_type": "code",
      "source": [
        "# Create User-Item Matrix\n",
        "user_item_matrix = data.pivot_table(index='user_id', columns='joke_id', values='Rating')\n"
      ],
      "metadata": {
        "id": "_IkGZU0vREAg"
      },
      "execution_count": 10,
      "outputs": []
    },
    {
      "cell_type": "code",
      "source": [
        "from sklearn.metrics.pairwise import cosine_similarity"
      ],
      "metadata": {
        "id": "R-3bJ1LKRYCq"
      },
      "execution_count": 11,
      "outputs": []
    },
    {
      "cell_type": "code",
      "source": [
        " #Calculate Similarity\n",
        "user_similarity = cosine_similarity(user_item_matrix.fillna(0))"
      ],
      "metadata": {
        "id": "HdoABR_PRHuT"
      },
      "execution_count": null,
      "outputs": []
    },
    {
      "cell_type": "code",
      "source": [
        "# Recommendation Generation\n",
        "def recommend_jokes(user_id, user_similarity, user_item_matrix):\n",
        "    similar_users = user_similarity[user_id]\n",
        "    rated_jokes = user_item_matrix.loc[user_id].dropna().index\n",
        "    unrated_jokes = user_item_matrix.columns.difference(rated_jokes)\n",
        "    recommendations = {}\n",
        "    for joke_id in unrated_jokes:\n",
        "        similar_users_ratings = user_item_matrix.loc[user_similarity.argsort()[user_id, ::-1][:10], joke_id].dropna()\n",
        "        if not similar_users_ratings.empty:\n",
        "            weighted_rating = similar_users_ratings.dot(similar_users[:len(similar_users_ratings)])\n",
        "            weighted_sum = similar_users[:len(similar_users_ratings)].sum()\n",
        "            recommendations[joke_id] = weighted_rating / weighted_sum\n",
        "    return sorted(recommendations.items(), key=lambda x: x[1], reverse=True)\n",
        "\n",
        "# Example: Generate recommendations for a user\n",
        "user_id = 110\n",
        "recommendations = recommend_jokes(user_id, user_similarity, user_item_matrix)\n",
        "print(\"Recommended Jokes for User\", user_id)\n",
        "for joke_id, rating in recommendations[:5]:\n",
        "    print(\"Joke ID:\", joke_id, \"- Predicted Rating:\", round(rating, 2))"
      ],
      "metadata": {
        "id": "8cOY89HrQQwc"
      },
      "execution_count": null,
      "outputs": []
    }
  ]
}