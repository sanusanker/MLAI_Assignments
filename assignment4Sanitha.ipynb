{
  "nbformat": 4,
  "nbformat_minor": 0,
  "metadata": {
    "colab": {
      "provenance": []
    },
    "kernelspec": {
      "name": "python3",
      "display_name": "Python 3"
    },
    "language_info": {
      "name": "python"
    }
  },
  "cells": [
    {
      "cell_type": "code",
      "execution_count": 4,
      "metadata": {
        "id": "Lhha0QzyzNAw"
      },
      "outputs": [],
      "source": [
        "import pandas as pd"
      ]
    },
    {
      "cell_type": "code",
      "source": [
        "# Load the dataset\n",
        "data = pd.read_csv('/content/credit_card_default.csv')\n"
      ],
      "metadata": {
        "id": "lxYgSMKx0Mq1"
      },
      "execution_count": 5,
      "outputs": []
    },
    {
      "cell_type": "code",
      "source": [
        "# Check for missing values\n",
        "missing_values = data.isnull().sum()\n",
        "print(\"Missing Values:\\n\", missing_values)"
      ],
      "metadata": {
        "colab": {
          "base_uri": "https://localhost:8080/"
        },
        "id": "cxRkNJbp0kS2",
        "outputId": "1885e1d8-209d-4fc1-d141-251faaa2b667"
      },
      "execution_count": 6,
      "outputs": [
        {
          "output_type": "stream",
          "name": "stdout",
          "text": [
            "Missing Values:\n",
            " ID                            0\n",
            "LIMIT_BAL                     0\n",
            "SEX                           0\n",
            "EDUCATION                     0\n",
            "MARRIAGE                      0\n",
            "AGE                           0\n",
            "PAY_1                         0\n",
            "PAY_2                         0\n",
            "PAY_3                         0\n",
            "PAY_4                         0\n",
            "PAY_5                         0\n",
            "PAY_6                         0\n",
            "BILL_AMT1                     0\n",
            "BILL_AMT2                     0\n",
            "BILL_AMT3                     0\n",
            "BILL_AMT4                     0\n",
            "BILL_AMT5                     0\n",
            "BILL_AMT6                     0\n",
            "PAY_AMT1                      0\n",
            "PAY_AMT2                      0\n",
            "PAY_AMT3                      0\n",
            "PAY_AMT4                      0\n",
            "PAY_AMT5                      0\n",
            "PAY_AMT6                      0\n",
            "default payment next month    0\n",
            "dtype: int64\n"
          ]
        }
      ]
    },
    {
      "cell_type": "code",
      "source": [
        "\n",
        "# pre-processing on dataset\n",
        "#  Splitting the Data\n",
        "from sklearn.model_selection import train_test_split\n",
        "from sklearn.preprocessing import StandardScaler, OneHotEncoder\n",
        "from sklearn.compose import ColumnTransformer\n",
        "from sklearn.pipeline import Pipeline"
      ],
      "metadata": {
        "id": "hjmBSsYr2SiT"
      },
      "execution_count": 8,
      "outputs": []
    },
    {
      "cell_type": "code",
      "source": [
        "# Separate features and target variable\n",
        "X = data.drop(columns=['default payment next month'])  # Features\n",
        "y = data['default payment next month']  # Target variable"
      ],
      "metadata": {
        "id": "2-dD-I-A3oFR"
      },
      "execution_count": 9,
      "outputs": []
    },
    {
      "cell_type": "code",
      "source": [
        "# Define categorical and numerical features\n",
        "categorical_features = ['SEX', 'EDUCATION', 'MARRIAGE']  # Assuming these are categorical\n",
        "numerical_features = [col for col in X.columns if col not in categorical_features]\n",
        "\n",
        "# Define preprocessing steps for numerical and categorical features\n",
        "numeric_transformer = Pipeline(steps=[\n",
        "    ('scaler', StandardScaler())  # Scale numerical features\n",
        "])\n",
        "\n",
        "categorical_transformer = Pipeline(steps=[\n",
        "    ('onehot', OneHotEncoder())  # Encode categorical features\n",
        "])\n",
        "\n",
        "# Combine preprocessing steps for numerical and categorical features\n",
        "preprocessor = ColumnTransformer(\n",
        "    transformers=[\n",
        "        ('num', numeric_transformer, numerical_features),\n",
        "        ('cat', categorical_transformer, categorical_features)\n",
        "    ])\n",
        "\n",
        "# Split the dataset into training and testing sets\n",
        "X_train, X_test, y_train, y_test = train_test_split(X, y, test_size=0.2, random_state=42)\n",
        "\n",
        "# Preprocess the training data\n",
        "X_train_preprocessed = preprocessor.fit_transform(X_train)\n",
        "\n",
        "# Preprocess the testing data\n",
        "X_test_preprocessed = preprocessor.transform(X_test)"
      ],
      "metadata": {
        "id": "tbkIfl1J3n7-"
      },
      "execution_count": 10,
      "outputs": []
    },
    {
      "cell_type": "code",
      "source": [
        "# Perform different algorithms such as kNN,SVM, Gradient Boosting, Ada\n",
        "#boosting and XG Boost\n",
        "from sklearn.neighbors import KNeighborsClassifier\n",
        "from sklearn.svm import SVC\n",
        "from sklearn.ensemble import GradientBoostingClassifier, AdaBoostClassifier\n",
        "from xgboost import XGBClassifier\n",
        "from sklearn.metrics import accuracy_score\n",
        "\n",
        "# Define the classifiers\n",
        "classifiers = {\n",
        "    \"kNN\": KNeighborsClassifier(),\n",
        "    \"SVM\": SVC(),\n",
        "    \"Gradient Boosting\": GradientBoostingClassifier(),\n",
        "    \"AdaBoost\": AdaBoostClassifier(),\n",
        "    \"XGBoost\": XGBClassifier()\n",
        "}\n"
      ],
      "metadata": {
        "id": "iLRBzbln4IeP"
      },
      "execution_count": 12,
      "outputs": []
    },
    {
      "cell_type": "code",
      "source": [
        "# Train and evaluate each classifier\n",
        "for name, classifier in classifiers.items():\n",
        "    print(f\"Training and evaluating {name}...\")\n",
        "    classifier.fit(X_train_preprocessed, y_train)\n",
        "    y_pred = classifier.predict(X_test_preprocessed)\n",
        "    accuracy = accuracy_score(y_test, y_pred)\n",
        "    print(f\"Accuracy of {name}: {accuracy:.4f}\")"
      ],
      "metadata": {
        "colab": {
          "base_uri": "https://localhost:8080/"
        },
        "id": "aFElLvcv4h7x",
        "outputId": "f1d2a12e-607a-4507-f8ab-28556dea8881"
      },
      "execution_count": 13,
      "outputs": [
        {
          "output_type": "stream",
          "name": "stdout",
          "text": [
            "Training and evaluating kNN...\n",
            "Accuracy of kNN: 0.7962\n",
            "Training and evaluating SVM...\n",
            "Accuracy of SVM: 0.8185\n",
            "Training and evaluating Gradient Boosting...\n",
            "Accuracy of Gradient Boosting: 0.8195\n",
            "Training and evaluating AdaBoost...\n",
            "Accuracy of AdaBoost: 0.8170\n",
            "Training and evaluating XGBoost...\n",
            "Accuracy of XGBoost: 0.8182\n"
          ]
        }
      ]
    },
    {
      "cell_type": "code",
      "source": [
        "from sklearn.model_selection import GridSearchCV, RandomizedSearchCV\n",
        "\n",
        "# Define parameter grids for each classifier\n",
        "param_grids = {\n",
        "    \"kNN\": {'n_neighbors': [3, 5, 7]},\n",
        "    \"SVM\": {'C': [0.1, 1, 10], 'gamma': [0.1, 0.01, 0.001], 'kernel': ['rbf']},\n",
        "    \"Gradient Boosting\": {'n_estimators': [50, 100, 200], 'learning_rate': [0.1, 0.05, 0.01]},\n",
        "    \"AdaBoost\": {'n_estimators': [50, 100, 200], 'learning_rate': [0.1, 0.05, 0.01]},\n",
        "    \"XGBoost\": {'n_estimators': [50, 100, 200], 'learning_rate': [0.1, 0.05, 0.01]}\n",
        "}\n",
        "\n",
        "# Perform hyperparameter tuning for each classifier\n",
        "for name, classifier in classifiers.items():\n",
        "    print(f\"Tuning hyperparameters for {name}...\")\n",
        "    param_grid = param_grids[name]\n",
        "\n",
        "    # Initialize GridSearchCV or RandomizedSearchCV\n",
        "    if name in [\"kNN\", \"SVM\"]:\n",
        "        search_cv = GridSearchCV(classifier, param_grid, cv=5, scoring='accuracy')\n",
        "    else:\n",
        "        search_cv = RandomizedSearchCV(classifier, param_grid, cv=5, n_iter=10, scoring='accuracy')\n",
        "\n",
        "    # Fit the search_cv to the preprocessed training data\n",
        "    search_cv.fit(X_train_preprocessed, y_train)\n",
        "\n",
        "    # Print the best parameters found\n",
        "    print(\"Best parameters found:\")\n",
        "    print(search_cv.best_params_)\n",
        "\n",
        "    # Evaluate the best estimator on the test set\n",
        "    best_estimator = search_cv.best_estimator_\n",
        "    y_pred = best_estimator.predict(X_test_preprocessed)\n",
        "    accuracy = accuracy_score(y_test, y_pred)\n",
        "    print(f\"Accuracy of {name} after tuning: {accuracy:.4f}\")\n"
      ],
      "metadata": {
        "colab": {
          "base_uri": "https://localhost:8080/"
        },
        "id": "ibhNoRZj5Ae_",
        "outputId": "152a14e1-eca5-4920-c39d-963caedbb2b0"
      },
      "execution_count": null,
      "outputs": [
        {
          "output_type": "stream",
          "name": "stdout",
          "text": [
            "Tuning hyperparameters for kNN...\n",
            "Best parameters found:\n",
            "{'n_neighbors': 7}\n",
            "Accuracy of kNN after tuning: 0.8012\n",
            "Tuning hyperparameters for SVM...\n"
          ]
        }
      ]
    }
  ]
}