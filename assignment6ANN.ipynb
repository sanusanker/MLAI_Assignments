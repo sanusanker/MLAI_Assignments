{
  "nbformat": 4,
  "nbformat_minor": 0,
  "metadata": {
    "colab": {
      "provenance": []
    },
    "kernelspec": {
      "name": "python3",
      "display_name": "Python 3"
    },
    "language_info": {
      "name": "python"
    }
  },
  "cells": [
    {
      "cell_type": "code",
      "execution_count": 1,
      "metadata": {
        "id": "YYJ1qKcqCNPz"
      },
      "outputs": [],
      "source": [
        "import pandas as pd\n",
        "from sklearn.model_selection import train_test_split\n",
        "from sklearn.preprocessing import StandardScaler, LabelEncoder\n",
        "import tensorflow as tf\n",
        "from tensorflow.keras.models import Sequential\n",
        "from tensorflow.keras.layers import Dense\n"
      ]
    },
    {
      "cell_type": "code",
      "source": [
        "# Load the data\n",
        "data = pd.read_csv(\"/content/mobile_price_classification (1).csv\")"
      ],
      "metadata": {
        "id": "kkDIsorZCWpg"
      },
      "execution_count": 2,
      "outputs": []
    },
    {
      "cell_type": "code",
      "source": [
        "# Data Preprocessing\n",
        "X = data.drop('price_range', axis=1)\n",
        "y = data['price_range']"
      ],
      "metadata": {
        "id": "eE0wwxx5Cf8s"
      },
      "execution_count": 3,
      "outputs": []
    },
    {
      "cell_type": "code",
      "source": [
        "# Standardize the features\n",
        "scaler = StandardScaler()\n",
        "X_scaled = scaler.fit_transform(X)\n",
        "\n",
        "# Encode the labels\n",
        "label_encoder = LabelEncoder()\n",
        "y_encoded = label_encoder.fit_transform(y)\n"
      ],
      "metadata": {
        "id": "Ldt1W3mBCkMC"
      },
      "execution_count": 4,
      "outputs": []
    },
    {
      "cell_type": "code",
      "source": [
        "# Splitting Data\n",
        "X_train, X_test, y_train, y_test = train_test_split(X_scaled, y_encoded, test_size=0.2, random_state=42)"
      ],
      "metadata": {
        "id": "I67KCOS1CoDn"
      },
      "execution_count": 5,
      "outputs": []
    },
    {
      "cell_type": "code",
      "source": [
        "# Building the Neural Network\n",
        "model = Sequential([\n",
        "    Dense(128, activation='relu', input_shape=(X_train.shape[1],)),\n",
        "    Dense(64, activation='relu'),\n",
        "    Dense(4, activation='softmax')  # Output layer with 4 neurons for 4 price ranges\n",
        "])\n",
        "\n",
        "# Compiling the Model\n",
        "model.compile(optimizer='adam', loss='sparse_categorical_crossentropy', metrics=['accuracy'])\n",
        "\n",
        "# Model Training\n",
        "history = model.fit(X_train, y_train, epochs=50, batch_size=32, validation_split=0.1)\n",
        "\n",
        "# Model Evaluation\n",
        "test_loss, test_acc = model.evaluate(X_test, y_test)\n",
        "print(\"Test Accuracy:\", test_acc)\n",
        "\n"
      ],
      "metadata": {
        "colab": {
          "base_uri": "https://localhost:8080/"
        },
        "id": "yeWU2bF2Ct-7",
        "outputId": "994a6fcf-95af-4c70-a738-d6cdea15984d"
      },
      "execution_count": 6,
      "outputs": [
        {
          "output_type": "stream",
          "name": "stdout",
          "text": [
            "Epoch 1/50\n",
            "45/45 [==============================] - 1s 7ms/step - loss: 1.2312 - accuracy: 0.4799 - val_loss: 1.0344 - val_accuracy: 0.6000\n",
            "Epoch 2/50\n",
            "45/45 [==============================] - 0s 2ms/step - loss: 0.8067 - accuracy: 0.7354 - val_loss: 0.7159 - val_accuracy: 0.7188\n",
            "Epoch 3/50\n",
            "45/45 [==============================] - 0s 3ms/step - loss: 0.5353 - accuracy: 0.8458 - val_loss: 0.5026 - val_accuracy: 0.8438\n",
            "Epoch 4/50\n",
            "45/45 [==============================] - 0s 3ms/step - loss: 0.3801 - accuracy: 0.9125 - val_loss: 0.4005 - val_accuracy: 0.8875\n",
            "Epoch 5/50\n",
            "45/45 [==============================] - 0s 3ms/step - loss: 0.2840 - accuracy: 0.9396 - val_loss: 0.3244 - val_accuracy: 0.8938\n",
            "Epoch 6/50\n",
            "45/45 [==============================] - 0s 2ms/step - loss: 0.2231 - accuracy: 0.9500 - val_loss: 0.2785 - val_accuracy: 0.9187\n",
            "Epoch 7/50\n",
            "45/45 [==============================] - 0s 2ms/step - loss: 0.1768 - accuracy: 0.9688 - val_loss: 0.2544 - val_accuracy: 0.9000\n",
            "Epoch 8/50\n",
            "45/45 [==============================] - 0s 3ms/step - loss: 0.1503 - accuracy: 0.9694 - val_loss: 0.2469 - val_accuracy: 0.9000\n",
            "Epoch 9/50\n",
            "45/45 [==============================] - 0s 3ms/step - loss: 0.1252 - accuracy: 0.9771 - val_loss: 0.2232 - val_accuracy: 0.9000\n",
            "Epoch 10/50\n",
            "45/45 [==============================] - 0s 3ms/step - loss: 0.1026 - accuracy: 0.9868 - val_loss: 0.2292 - val_accuracy: 0.8875\n",
            "Epoch 11/50\n",
            "45/45 [==============================] - 0s 3ms/step - loss: 0.0863 - accuracy: 0.9917 - val_loss: 0.2120 - val_accuracy: 0.9062\n",
            "Epoch 12/50\n",
            "45/45 [==============================] - 0s 3ms/step - loss: 0.0739 - accuracy: 0.9951 - val_loss: 0.2104 - val_accuracy: 0.8938\n",
            "Epoch 13/50\n",
            "45/45 [==============================] - 0s 3ms/step - loss: 0.0631 - accuracy: 0.9965 - val_loss: 0.1953 - val_accuracy: 0.9250\n",
            "Epoch 14/50\n",
            "45/45 [==============================] - 0s 3ms/step - loss: 0.0570 - accuracy: 0.9937 - val_loss: 0.2180 - val_accuracy: 0.9125\n",
            "Epoch 15/50\n",
            "45/45 [==============================] - 0s 3ms/step - loss: 0.0473 - accuracy: 0.9986 - val_loss: 0.2113 - val_accuracy: 0.9062\n",
            "Epoch 16/50\n",
            "45/45 [==============================] - 0s 3ms/step - loss: 0.0406 - accuracy: 0.9993 - val_loss: 0.2065 - val_accuracy: 0.9062\n",
            "Epoch 17/50\n",
            "45/45 [==============================] - 0s 2ms/step - loss: 0.0367 - accuracy: 1.0000 - val_loss: 0.2277 - val_accuracy: 0.9187\n",
            "Epoch 18/50\n",
            "45/45 [==============================] - 0s 3ms/step - loss: 0.0324 - accuracy: 0.9993 - val_loss: 0.1975 - val_accuracy: 0.9000\n",
            "Epoch 19/50\n",
            "45/45 [==============================] - 0s 3ms/step - loss: 0.0282 - accuracy: 0.9993 - val_loss: 0.2213 - val_accuracy: 0.9062\n",
            "Epoch 20/50\n",
            "45/45 [==============================] - 0s 3ms/step - loss: 0.0242 - accuracy: 1.0000 - val_loss: 0.2042 - val_accuracy: 0.9062\n",
            "Epoch 21/50\n",
            "45/45 [==============================] - 0s 3ms/step - loss: 0.0216 - accuracy: 1.0000 - val_loss: 0.2220 - val_accuracy: 0.9000\n",
            "Epoch 22/50\n",
            "45/45 [==============================] - 0s 3ms/step - loss: 0.0191 - accuracy: 1.0000 - val_loss: 0.2169 - val_accuracy: 0.9000\n",
            "Epoch 23/50\n",
            "45/45 [==============================] - 0s 3ms/step - loss: 0.0169 - accuracy: 1.0000 - val_loss: 0.2124 - val_accuracy: 0.9187\n",
            "Epoch 24/50\n",
            "45/45 [==============================] - 0s 3ms/step - loss: 0.0155 - accuracy: 1.0000 - val_loss: 0.2119 - val_accuracy: 0.8938\n",
            "Epoch 25/50\n",
            "45/45 [==============================] - 0s 3ms/step - loss: 0.0135 - accuracy: 1.0000 - val_loss: 0.2228 - val_accuracy: 0.9000\n",
            "Epoch 26/50\n",
            "45/45 [==============================] - 0s 2ms/step - loss: 0.0120 - accuracy: 1.0000 - val_loss: 0.2282 - val_accuracy: 0.9062\n",
            "Epoch 27/50\n",
            "45/45 [==============================] - 0s 3ms/step - loss: 0.0112 - accuracy: 1.0000 - val_loss: 0.2197 - val_accuracy: 0.9062\n",
            "Epoch 28/50\n",
            "45/45 [==============================] - 0s 3ms/step - loss: 0.0100 - accuracy: 1.0000 - val_loss: 0.2315 - val_accuracy: 0.9000\n",
            "Epoch 29/50\n",
            "45/45 [==============================] - 0s 3ms/step - loss: 0.0091 - accuracy: 1.0000 - val_loss: 0.2337 - val_accuracy: 0.8938\n",
            "Epoch 30/50\n",
            "45/45 [==============================] - 0s 3ms/step - loss: 0.0082 - accuracy: 1.0000 - val_loss: 0.2276 - val_accuracy: 0.9000\n",
            "Epoch 31/50\n",
            "45/45 [==============================] - 0s 3ms/step - loss: 0.0076 - accuracy: 1.0000 - val_loss: 0.2329 - val_accuracy: 0.9062\n",
            "Epoch 32/50\n",
            "45/45 [==============================] - 0s 3ms/step - loss: 0.0070 - accuracy: 1.0000 - val_loss: 0.2348 - val_accuracy: 0.9000\n",
            "Epoch 33/50\n",
            "45/45 [==============================] - 0s 3ms/step - loss: 0.0062 - accuracy: 1.0000 - val_loss: 0.2328 - val_accuracy: 0.9062\n",
            "Epoch 34/50\n",
            "45/45 [==============================] - 0s 3ms/step - loss: 0.0058 - accuracy: 1.0000 - val_loss: 0.2397 - val_accuracy: 0.9062\n",
            "Epoch 35/50\n",
            "45/45 [==============================] - 0s 3ms/step - loss: 0.0054 - accuracy: 1.0000 - val_loss: 0.2397 - val_accuracy: 0.9062\n",
            "Epoch 36/50\n",
            "45/45 [==============================] - 0s 3ms/step - loss: 0.0050 - accuracy: 1.0000 - val_loss: 0.2459 - val_accuracy: 0.9000\n",
            "Epoch 37/50\n",
            "45/45 [==============================] - 0s 3ms/step - loss: 0.0047 - accuracy: 1.0000 - val_loss: 0.2346 - val_accuracy: 0.9125\n",
            "Epoch 38/50\n",
            "45/45 [==============================] - 0s 2ms/step - loss: 0.0044 - accuracy: 1.0000 - val_loss: 0.2440 - val_accuracy: 0.9062\n",
            "Epoch 39/50\n",
            "45/45 [==============================] - 0s 3ms/step - loss: 0.0040 - accuracy: 1.0000 - val_loss: 0.2469 - val_accuracy: 0.9125\n",
            "Epoch 40/50\n",
            "45/45 [==============================] - 0s 2ms/step - loss: 0.0038 - accuracy: 1.0000 - val_loss: 0.2412 - val_accuracy: 0.9062\n",
            "Epoch 41/50\n",
            "45/45 [==============================] - 0s 3ms/step - loss: 0.0035 - accuracy: 1.0000 - val_loss: 0.2419 - val_accuracy: 0.9062\n",
            "Epoch 42/50\n",
            "45/45 [==============================] - 0s 3ms/step - loss: 0.0033 - accuracy: 1.0000 - val_loss: 0.2455 - val_accuracy: 0.9125\n",
            "Epoch 43/50\n",
            "45/45 [==============================] - 0s 3ms/step - loss: 0.0031 - accuracy: 1.0000 - val_loss: 0.2446 - val_accuracy: 0.9000\n",
            "Epoch 44/50\n",
            "45/45 [==============================] - 0s 3ms/step - loss: 0.0029 - accuracy: 1.0000 - val_loss: 0.2442 - val_accuracy: 0.9187\n",
            "Epoch 45/50\n",
            "45/45 [==============================] - 0s 2ms/step - loss: 0.0027 - accuracy: 1.0000 - val_loss: 0.2618 - val_accuracy: 0.9000\n",
            "Epoch 46/50\n",
            "45/45 [==============================] - 0s 2ms/step - loss: 0.0026 - accuracy: 1.0000 - val_loss: 0.2567 - val_accuracy: 0.9062\n",
            "Epoch 47/50\n",
            "45/45 [==============================] - 0s 3ms/step - loss: 0.0024 - accuracy: 1.0000 - val_loss: 0.2539 - val_accuracy: 0.9187\n",
            "Epoch 48/50\n",
            "45/45 [==============================] - 0s 2ms/step - loss: 0.0023 - accuracy: 1.0000 - val_loss: 0.2491 - val_accuracy: 0.9125\n",
            "Epoch 49/50\n",
            "45/45 [==============================] - 0s 3ms/step - loss: 0.0021 - accuracy: 1.0000 - val_loss: 0.2602 - val_accuracy: 0.9125\n",
            "Epoch 50/50\n",
            "45/45 [==============================] - 0s 3ms/step - loss: 0.0020 - accuracy: 1.0000 - val_loss: 0.2592 - val_accuracy: 0.9062\n",
            "13/13 [==============================] - 0s 2ms/step - loss: 0.1867 - accuracy: 0.9175\n",
            "Test Accuracy: 0.9175000190734863\n"
          ]
        }
      ]
    }
  ]
}