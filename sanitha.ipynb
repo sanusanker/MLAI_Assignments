{
  "nbformat": 4,
  "nbformat_minor": 0,
  "metadata": {
    "colab": {
      "provenance": []
    },
    "kernelspec": {
      "name": "python3",
      "display_name": "Python 3"
    },
    "language_info": {
      "name": "python"
    }
  },
  "cells": [
    {
      "cell_type": "code",
      "execution_count": 1,
      "metadata": {
        "id": "7rnVYP3cAkTI"
      },
      "outputs": [],
      "source": [
        "import pandas as pd\n",
        "from sklearn.model_selection import train_test_split\n",
        "from keras.preprocessing.text import Tokenizer\n",
        "from keras.preprocessing.sequence import pad_sequences\n",
        "from keras.models import Sequential\n",
        "from keras.layers import Embedding, SimpleRNN, LSTM, Dense"
      ]
    },
    {
      "cell_type": "code",
      "source": [
        "# Step 1: Data Preprocessing\n",
        "df = pd.read_csv(\"twitter_data.csv\", encoding='latin-1')"
      ],
      "metadata": {
        "id": "taDpA97PA5ID"
      },
      "execution_count": 24,
      "outputs": []
    },
    {
      "cell_type": "code",
      "source": [
        "# Drop rows with NaN values in 'tweet_text' column\n",
        "df.dropna(subset=['tweet_text'], inplace=True)\n",
        "\n",
        "# Convert 'tweet_text' column to string type\n",
        "df['tweet_text'] = df['tweet_text'].astype(str)\n"
      ],
      "metadata": {
        "id": "BtHk5iDZHApK"
      },
      "execution_count": 25,
      "outputs": []
    },
    {
      "cell_type": "code",
      "source": [
        "# Print unique label values to check for anomalies\n",
        "print(\"Unique label values:\", df['label'].unique())\n",
        "\n",
        "# Ensure that label values are within the expected range [0, 3]\n",
        "if df['label'].min() < 0 or df['label'].max() >= 4:\n",
        "    print(\"Error: Label values outside the valid range [0, 3]\")\n",
        "\n",
        "# Split the data into training and testing sets\n",
        "X_train, X_test, y_train, y_test = train_test_split(df['tweet_text'], df['label'], test_size=0.2, random_state=42)\n"
      ],
      "metadata": {
        "colab": {
          "base_uri": "https://localhost:8080/"
        },
        "id": "sRxAFE_6JJuQ",
        "outputId": "6996ef17-6a82-46b3-be24-4d0a42df103a"
      },
      "execution_count": 34,
      "outputs": [
        {
          "output_type": "stream",
          "name": "stdout",
          "text": [
            "Unique label values: [nan]\n"
          ]
        }
      ]
    },
    {
      "cell_type": "code",
      "source": [
        "# Define labels\n",
        "label_map = {'positive': 0, 'negative': 1, 'neutral': 2, 'no_idea': 3}\n",
        "df['label'] = df['is_there_an_emotion_directed_at_a_brand_or_product'].map(label_map)\n",
        "\n",
        "# Split the data into training and testing sets\n",
        "X_train, X_test, y_train, y_test = train_test_split(df['tweet_text'], df['label'], test_size=0.2, random_state=42)\n"
      ],
      "metadata": {
        "id": "48vnlLz0HE3L"
      },
      "execution_count": 26,
      "outputs": []
    },
    {
      "cell_type": "code",
      "source": [
        "# Tokenization and padding\n",
        "tokenizer = Tokenizer()\n",
        "tokenizer.fit_on_texts(X_train)\n",
        "X_train_seq = tokenizer.texts_to_sequences(X_train)\n",
        "X_test_seq = tokenizer.texts_to_sequences(X_test)\n",
        "max_len = max(len(seq) for seq in X_train_seq)\n",
        "X_train_padded = pad_sequences(X_train_seq, maxlen=max_len)\n",
        "X_test_padded = pad_sequences(X_test_seq, maxlen=max_len)\n"
      ],
      "metadata": {
        "id": "f26ck9CpHGdw"
      },
      "execution_count": 35,
      "outputs": []
    },
    {
      "cell_type": "code",
      "source": [
        "# Define the model\n",
        "model = Sequential()\n",
        "model.add(Embedding(input_dim=len(tokenizer.word_index) + 1, output_dim=100, input_length=max_len))\n",
        "model.add(LSTM(units=128))\n",
        "model.add(Dense(units=4, activation='softmax'))\n"
      ],
      "metadata": {
        "id": "rGsNrIaCHMo5"
      },
      "execution_count": 28,
      "outputs": []
    },
    {
      "cell_type": "code",
      "source": [
        "# Compile the model\n",
        "model.compile(loss='sparse_categorical_crossentropy', optimizer='adam', metrics=['accuracy'])\n"
      ],
      "metadata": {
        "id": "rnV4O4jvHQ_U"
      },
      "execution_count": 38,
      "outputs": []
    },
    {
      "cell_type": "code",
      "source": [
        "# Evaluate the model\n",
        "loss, accuracy = model.evaluate(X_test_padded, y_test)\n",
        "print(\"Test Accuracy:\", accuracy)"
      ],
      "metadata": {
        "id": "YmwaQKRlJ1QB"
      },
      "execution_count": null,
      "outputs": []
    }
  ]
}